{
  "nbformat": 4,
  "nbformat_minor": 0,
  "metadata": {
    "colab": {
      "name": "Lab1.ipynb",
      "provenance": [],
      "collapsed_sections": [],
      "authorship_tag": "ABX9TyNvCDVRfpeGxQFiLeC5UFT/",
      "include_colab_link": true
    },
    "kernelspec": {
      "name": "python3",
      "display_name": "Python 3"
    },
    "language_info": {
      "name": "python"
    }
  },
  "cells": [
    {
      "cell_type": "markdown",
      "metadata": {
        "id": "view-in-github",
        "colab_type": "text"
      },
      "source": [
        "<a href=\"https://colab.research.google.com/github/juzarantri/ML-Lab/blob/master/Lab1.ipynb\" target=\"_parent\"><img src=\"https://colab.research.google.com/assets/colab-badge.svg\" alt=\"Open In Colab\"/></a>"
      ]
    },
    {
      "cell_type": "code",
      "metadata": {
        "colab": {
          "base_uri": "https://localhost:8080/",
          "height": 1000
        },
        "id": "BJDfjyZP_Vuz",
        "outputId": "6b11193f-ddf4-40ea-cd65-b0293ae69b33"
      },
      "source": [
        "import numpy as np # used for algebric operations on numberic data\n",
        "import pandas as ps # used for reading and performing operation on csc file\n",
        "import nltk # Natural Language Toolkit\n",
        "from nltk.corpus import twitter_samples # sample Twitter dataset from NLTK\n",
        "from nltk.corpus import stopwords # module for stop words that come with NLTK\n",
        "from nltk.corpus import names\n",
        "from nltk.stem import PorterStemmer # module for stemming\n",
        "from nltk.tokenize import TweetTokenizer # module for tokenizing strings\n",
        "import random # pseudo-random number generator  \n",
        "import matplotlib.pyplot as plt\n",
        "\n",
        "# downloading dataset\n",
        "nltk.download('twitter_samples')\n",
        "nltk.download('names')\n",
        "\n",
        "# 1) Create a Numpy array of size 4 x 5.\n",
        "print(\"1) Create a Numpy array of size 4 x 5.\")\n",
        "num_arr = np.array([[1,2,3,4,5],[1,2,3,4,5],[1,2,3,4,5],[1,2,3,4,5]])\n",
        "print(num_arr,\"\\n\")\n",
        "\n",
        "# 2) Randomly initialize the array.\n",
        "print(\"2) Randomly initialize the array.\")\n",
        "random_arr = np.random.rand(2,2)\n",
        "print(random_arr,\"\\n\")\n",
        "\n",
        "# 3) Get the Determinant and Transpose of the Matrix that you created.\n",
        "print(\"3) Get the Determinant and Transpose of the Matrix that you created.\")\n",
        "print(np.linalg.det(random_arr))\n",
        "print(random_arr.T,\"\\n\")\n",
        "\n",
        "# 4) Create another matrix of size 5 x 4 and randomly initialize it.\n",
        "print(\"4) Create another matrix of size 5 x 4 and randomly initialize it.\")\n",
        "random_arr2 = np.random.rand(5,4)\n",
        "print(random_arr2,\"\\n\")\n",
        "\n",
        "# 5) Perform Matrix multiplication.\n",
        "print(\"5) Perform Matrix multiplication.\")\n",
        "mat1 = np.array([[1,2,3],[4,5,6],[7,8,9]])\n",
        "mat2 = np.array([[1,2],[3,4],[5,6]])\n",
        "print(np.dot(mat1,mat2),\"\\n\")\n",
        "\n",
        "# 6) Perform element wise matrix multiplication.\n",
        "print(\"6) Perform element wise matrix multiplication.\")\n",
        "print(mat1 * 3,\"\\n\")\n",
        "\n",
        "# 7) Find mean, median of the numpy array created.\n",
        "print(\"7) Find mean, median of the numpy array created.\")\n",
        "print(\"The mean is \",np.mean(mat2))\n",
        "print(\"The median is \",np.median(mat1),\"\\n\")\n",
        "\n",
        "# 8) Obtain each row in the second column of the first array.\n",
        "print(\"# 8) Obtain each row in the second column of the first array.\")\n",
        "print(num_arr[:,1],\"\\n\")\n",
        "\n",
        "# 9) Convert Numeric entries(columns) of Iris.csv to Mean Centered Version\n",
        "print(\"# 9) Convert Numeric entries(columns) of Iris.csv to Mean Centered Version\")\n",
        "url = 'https://raw.githubusercontent.com/juzarantri/ML-Lab/afbd953a249a4aff2e7a799bfd4145ee4574e861/Iris.csv'\n",
        "df = ps.read_csv(url, index_col=0)\n",
        "df_arr = np.array(df.head(5))\n",
        "iris_arr = np.array([df_arr[:,0],df_arr[:,1],df_arr[:,2],df_arr[:,3]])\n",
        "iris_arrCentered = iris_arr - np.mean(iris_arr,axis = 0)\n",
        "print(iris_arrCentered,\"\\n\")\n",
        "\n",
        "# 10) Study about numpy array attributes and implement it on the first matrix.\n",
        "print(\"10) Study about numpy array attributes and implement it on the first matrix.\")\n",
        "print(mat1.shape,\"\\n\")\n",
        "\n",
        "# preprocessing tasks on names & twitter_samples dataset\n",
        "positive_tweets = twitter_samples.strings('positive_tweets.json') \n",
        "nagative_tweets = twitter_samples.strings('negative_tweets.json') \n",
        "\n",
        "male_name = names.words('male.txt')\n",
        "female_name = names.words('female.txt')\n",
        "\n",
        "# tokenizing tweets\n",
        "tweet = positive_tweets[1111]\n",
        "tokenizer = TweetTokenizer()\n",
        "tweet_tokens = tokenizer.tokenize(tweet)\n",
        "print(tweet_tokens)\n",
        "\n",
        "# steming words\n",
        "# initialize steming class\n",
        "stemmer = PorterStemmer()\n",
        "names_stem = []\n",
        "for name in male_name:\n",
        "  stem_word = stemmer.stem(name)\n",
        "  names_stem.append(stem_word)\n",
        "\n",
        "print(names_stem,'\\n')\n",
        "\n",
        "# Lab_1_02 exercise\n",
        "# 1) Draw Scatter Plot between SepalLengthCm and SepalWidthCm for \"Iris.csv\" file with proper labelling. \n",
        "print(\"Lab_1_02 exercise\")\n",
        "print(\"1) Draw Scatter Plot between SepalLengthCm and SepalWidthCm for Iris.csv file with proper labelling.\",'\\n')\n",
        "plt.scatter(df['SepalLengthCm'],df['SepalWidthCm'])\n",
        "plt.show()\n",
        "# 2) Draw Histogram of SepalLengthCm with proper labelling. \n",
        "print(\"2) Draw Histogram of SepalLengthCm with proper labelling. \\n\")\n",
        "plt.hist(df['SepalLengthCm'],label = 'SepalLengthCm')\n",
        "plt.show()\n",
        "# 3) Plot bar chart of Species. \n",
        "print(\"3) Plot bar chart of Species. \")\n",
        "plt.bar(df['Species'],height=1)\n",
        "plt.show()\n",
        "# 4) Count total null values for each column in this dataset. \n",
        "print(\"4) Count total null values for each column in this dataset.\")\n",
        "iris_col_arr = ['SepalLengthCm','SepalWidthCm','PetalWidthCm','Species']\n",
        "for i in range(4):\n",
        "  print(\"The null value for column \",iris_col_arr[i],\" is \",df[iris_col_arr[i]].isnull().sum())\n",
        "print('\\n')\n",
        "# 5) 1) Print first 5 rows of SepalLengthCm. 2) Print from 5th row and onwards and entire column of Iris.csv dataset.\n",
        "print('5) 1) Print first 5 rows of SepalLengthCm.')\n",
        "print(df['SepalLengthCm'].head(5))\n",
        "print('5) 2) Print from 5th row and onwards and entire column of Iris.csv dataset.')\n",
        "print(df.iloc[5:,1:])\n"
      ],
      "execution_count": 41,
      "outputs": [
        {
          "output_type": "stream",
          "name": "stdout",
          "text": [
            "[nltk_data] Downloading package twitter_samples to /root/nltk_data...\n",
            "[nltk_data]   Package twitter_samples is already up-to-date!\n",
            "[nltk_data] Downloading package names to /root/nltk_data...\n",
            "[nltk_data]   Package names is already up-to-date!\n",
            "1) Create a Numpy array of size 4 x 5.\n",
            "[[1 2 3 4 5]\n",
            " [1 2 3 4 5]\n",
            " [1 2 3 4 5]\n",
            " [1 2 3 4 5]] \n",
            "\n",
            "2) Randomly initialize the array.\n",
            "[[0.51865202 0.78497313]\n",
            " [0.0129323  0.20273919]] \n",
            "\n",
            "3) Get the Determinant and Transpose of the Matrix that you created.\n",
            "0.09499957954018251\n",
            "[[0.51865202 0.0129323 ]\n",
            " [0.78497313 0.20273919]] \n",
            "\n",
            "4) Create another matrix of size 5 x 4 and randomly initialize it.\n",
            "[[0.69254075 0.58363617 0.58023716 0.6821729 ]\n",
            " [0.42214284 0.6925017  0.15700677 0.72043741]\n",
            " [0.36089662 0.36637312 0.99150925 0.71562324]\n",
            " [0.49058025 0.86963187 0.76456966 0.52751998]\n",
            " [0.18414408 0.00241954 0.62837209 0.35789634]] \n",
            "\n",
            "5) Perform Matrix multiplication.\n",
            "[[ 22  28]\n",
            " [ 49  64]\n",
            " [ 76 100]] \n",
            "\n",
            "6) Perform element wise matrix multiplication.\n",
            "[[ 3  6  9]\n",
            " [12 15 18]\n",
            " [21 24 27]] \n",
            "\n",
            "7) Find mean, median of the numpy array created.\n",
            "The mean is  3.5\n",
            "The median is  5.0 \n",
            "\n",
            "# 8) Obtain each row in the second column of the first array.\n",
            "[2 2 2 2] \n",
            "\n",
            "# 9) Convert Numeric entries(columns) of Iris.csv to Mean Centered Version\n",
            "[[2.55 2.5250000000000004 2.35 2.25 2.45]\n",
            " [0.9500000000000002 0.625 0.8500000000000001 0.7500000000000004\n",
            "  1.0500000000000003]\n",
            " [-1.15 -0.9750000000000001 -1.05 -0.8499999999999996 -1.15]\n",
            " [-2.3499999999999996 -2.175 -2.15 -2.1499999999999995\n",
            "  -2.3499999999999996]] \n",
            "\n",
            "10) Study about numpy array attributes and implement it on the first matrix.\n",
            "(3, 3) \n",
            "\n",
            "['@zaynahoranpayno', 'Your', 'Welcome', '!', ':D']\n",
            "['aamir', 'aaron', 'abbey', 'abbi', 'abbot', 'abbott', 'abbi', 'abdel', 'abdul', 'abdulkarim', 'abdullah', 'abe', 'abel', 'abelard', 'abner', 'abraham', 'abram', 'ace', 'adair', 'adam', 'adam', 'addi', 'adger', 'aditya', 'adlai', 'adnan', 'adolf', 'adolfo', 'adolph', 'adolph', 'adolpho', 'adolphu', 'adrian', 'adrick', 'adrien', 'agamemnon', 'aguinaldo', 'agust', 'agustin', 'aharon', 'ahmad', 'ahm', 'ahmet', 'ajai', 'ajay', 'Al', 'alaa', 'alain', 'alan', 'alasdair', 'alastair', 'albatro', 'albert', 'alberto', 'albrecht', 'alden', 'aldi', 'aldo', 'aldric', 'aldrich', 'aldu', 'aldwin', 'alec', 'aleck', 'alejandro', 'alek', 'aleksandr', 'alessandro', 'alex', 'alexand', 'alexei', 'alexi', 'alf', 'alfi', 'alfons', 'alfonso', 'alfonzo', 'alford', 'alfr', 'alfredo', 'algernon', 'ali', 'alic', 'alist', 'alix', 'allah', 'allan', 'allen', 'alley', 'alli', 'allin', 'allyn', 'alonso', 'alonzo', 'aloysiu', 'alphons', 'alphonso', 'alston', 'alton', 'alvin', 'alwin', 'amadeu', 'ambro', 'ambros', 'ambrosi', 'ambrosio', 'ambrosiu', 'ameri', 'amori', 'amo', 'anatol', 'anatol', 'anatollo', 'anatoli', 'ander', 'andi', 'andoni', 'andr', 'andrea', 'andrea', 'andrej', 'andr', 'andrew', 'andrey', 'andri', 'andro', 'andru', 'andrzej', 'andi', 'angel', 'angelico', 'angelo', 'angi', 'angu', 'ansel', 'ansel', 'anselm', 'anson', 'anthoni', 'antin', 'antoin', 'anton', 'anton', 'antoni', 'antonin', 'antonino', 'antonio', 'antoniu', 'antoni', 'anurag', 'apollo', 'apostolo', 'aram', 'archibald', 'archibold', 'archi', 'archon', 'archi', 'arel', 'ari', 'ari', 'ariel', 'aristotl', 'arlo', 'armand', 'armando', 'armond', 'armstrong', 'arn', 'arni', 'arnold', 'arnoldo', 'aron', 'arron', 'art', 'arther', 'arthur', 'arti', 'artur', 'arturo', 'arvi', 'arvin', 'arvind', 'arvi', 'ash', 'ashbi', 'ashish', 'ashley', 'ashton', 'aub', 'aub', 'aubert', 'aubrey', 'augi', 'august', 'augustin', 'augustin', 'augusto', 'augustu', 'austen', 'austin', 'ave', 'averel', 'averil', 'averil', 'averi', 'avi', 'avraham', 'avram', 'avrom', 'axel', 'aylmer', 'aziz', 'bailey', 'baili', 'bailli', 'baili', 'baird', 'baldwin', 'bancroft', 'barbaba', 'barclay', 'bard', 'bard', 'barn', 'barnaba', 'barnab', 'barnabi', 'barnard', 'barneba', 'barnett', 'barney', 'barni', 'barni', 'baron', 'barr', 'barret', 'barrett', 'barri', 'barri', 'barri', 'barron', 'barri', 'bart', 'bartel', 'barth', 'barthel', 'bartholemi', 'bartholomeo', 'bartholomeu', 'bartholomew', 'barti', 'bartlet', 'bartlett', 'bartolemo', 'bartolomei', 'bartolomeo', 'barton', 'barti', 'bari', 'basil', 'batholomew', 'baxter', 'bay', 'bayard', 'beal', 'beall', 'bear', 'bearnard', 'beau', 'beaufort', 'beauregard', 'beck', 'bela', 'ben', 'benedict', 'bengt', 'benito', 'benjamen', 'benjamin', 'benji', 'benji', 'benji', 'benn', 'bennet', 'bennett', 'benni', 'benni', 'benson', 'bentley', 'benton', 'beowulf', 'berchtold', 'berk', 'berk', 'berkeley', 'berki', 'berkley', 'bernard', 'bernardo', 'bernd', 'bernhard', 'berni', 'bert', 'berti', 'bertram', 'bertrand', 'bharat', 'biff', 'bill', 'billi', 'billi', 'bing', 'binki', 'bishop', 'bjorn', 'bjorn', 'blain', 'blair', 'blake', 'blare', 'blayn', 'Bo', 'bob', 'bobbi', 'bobbi', 'bogart', 'bogdan', 'bonifac', 'bori', 'boyc', 'boyd', 'brad', 'braden', 'bradford', 'bradley', 'bradli', 'bradi', 'brandon', 'brandi', 'brant', 'brendan', 'brent', 'bret', 'brett', 'brewer', 'brewster', 'brian', 'brice', 'brigg', 'brinkley', 'britt', 'brock', 'broddi', 'broddi', 'broder', 'broderick', 'brodi', 'brodi', 'bronson', 'brook', 'brook', 'brook', 'bruce', 'bruno', 'bryan', 'bryant', 'bryce', 'bryn', 'bryon', 'bubba', 'buck', 'bucki', 'bud', 'buddi', 'burgess', 'burk', 'burl', 'burnabi', 'burt', 'burton', 'buster', 'butch', 'butler', 'byram', 'byron', 'caesar', 'cain', 'cal', 'caldwel', 'caleb', 'calhoun', 'calvin', 'cam', 'cameron', 'cammi', 'carey', 'carl', 'carleigh', 'carli', 'carlin', 'carlo', 'carlo', 'carlton', 'carlyl', 'carmin', 'carrol', 'carson', 'carsten', 'carter', 'cari', 'caryl', 'case', 'casey', 'caspar', 'casper', 'cass', 'cat', 'cecil', 'cesar', 'chad', 'chadd', 'chaddi', 'chaddi', 'chadwick', 'chaim', 'chalmer', 'chan', 'chanc', 'chancey', 'chanderjit', 'chandler', 'chane', 'chariot', 'charl', 'charleton', 'charley', 'charli', 'charlton', 'cha', 'chase', 'chaunc', 'chauncey', 'che', 'chelton', 'chen', 'chester', 'cheston', 'chet', 'chev', 'chevali', 'chevi', 'chip', 'chri', 'chrissi', 'christ', 'christian', 'christiano', 'christi', 'christof', 'christof', 'christoph', 'christoph', 'christoph', 'christorph', 'christo', 'christi', 'chrisi', 'chuck', 'churchil', 'clair', 'clair', 'clanci', 'claranc', 'clare', 'clarenc', 'clark', 'clark', 'claud', 'claudio', 'claudiu', 'clau', 'clay', 'clayborn', 'clayborn', 'claybourn', 'clayton', 'cleland', 'clem', 'clemen', 'clement', 'clement', 'clemmi', 'cletu', 'cleveland', 'cliff', 'clifford', 'clifton', 'clint', 'clinten', 'clinton', 'clive', 'clyde', 'cob', 'cobb', 'cobbi', 'cobbi', 'codi', 'colbert', 'cole', 'coleman', 'colin', 'collin', 'collin', 'conan', 'conni', 'connolli', 'connor', 'conrad', 'conroy', 'constantin', 'constantin', 'constantino', 'conway', 'cooper', 'corbin', 'corbi', 'corey', 'corki', 'corneliu', 'cornelli', 'corri', 'cortes', 'corwin', 'cori', 'cosmo', 'costa', 'courtney', 'craig', 'crawford', 'creighton', 'cri', 'cristoph', 'curt', 'curtic', 'curti', 'Cy', 'cyril', 'cyril', 'cyril', 'cyrillu', 'cyru', 'dabney', 'daffi', 'dale', 'dalla', 'dalton', 'damian', 'damien', 'damon', 'dan', 'dana', 'dane', 'dani', 'dani', 'daniel', 'danni', 'danni', 'dant', 'darbi', 'darci', 'daren', 'darian', 'darien', 'darin', 'dario', 'dariu', 'darrel', 'darrel', 'darren', 'darrick', 'darrin', 'darryl', 'darth', 'darwin', 'daryl', 'daryl', 'dave', 'davey', 'david', 'davidd', 'david', 'davidson', 'davi', 'davin', 'davi', 'davon', 'davoud', 'davi', 'dawson', 'dean', 'dean', 'del', 'delbert', 'dell', 'delmar', 'demetr', 'demetri', 'demetri', 'demetriu', 'demostheni', 'deni', 'denni', 'denni', 'denni', 'derbi', 'derek', 'derick', 'derk', 'derrek', 'derrick', 'derrin', 'derrol', 'derron', 'deryl', 'desmond', 'desmund', 'devin', 'devon', 'dewey', 'dewitt', 'dexter', 'dick', 'dickey', 'dicki', 'diego', 'dieter', 'dietrich', 'dillon', 'dimitri', 'dimitrio', 'dimitri', 'dimitr', 'dimitri', 'dino', 'dion', 'dioni', 'dionysu', 'dirk', 'dmitri', 'dom', 'domen', 'domenico', 'domin', 'dominick', 'dominiqu', 'don', 'donal', 'donald', 'donn', 'donni', 'donni', 'donovan', 'dorian', 'dori', 'doug', 'douggi', 'dougi', 'dougla', 'douglass', 'dougli', 'dov', 'doyl', 'drake', 'drew', 'dru', 'dryke', 'duan', 'dudley', 'duffi', 'duffi', 'dugan', 'duke', 'dunc', 'duncan', 'dunstan', 'durand', 'durant', 'durant', 'durward', 'dustin', 'dwain', 'dwain', 'dwane', 'dwayn', 'dwight', 'dylan', 'dyson', 'earl', 'earl', 'easton', 'eben', 'ebenes', 'ebenez', 'eberhard', 'Ed', 'eddi', 'eddi', 'edgar', 'edgardo', 'edi', 'edmond', 'edmund', 'edouard', 'edsel', 'eduard', 'eduardo', 'edward', 'edwin', 'efram', 'egbert', 'ehud', 'elbert', 'elden', 'eldon', 'eli', 'elia', 'elihu', 'elijah', 'eliot', 'eliott', 'elisha', 'elliot', 'elliott', 'elli', 'ellsworth', 'ellwood', 'elmer', 'elmor', 'elnar', 'elric', 'elroy', 'elton', 'elvin', 'elvi', 'elwin', 'elwood', 'elwyn', 'eli', 'emanuel', 'emerson', 'emeri', 'emil', 'emil', 'emilio', 'emmanuel', 'emmeri', 'emmet', 'emmett', 'emmit', 'emmott', 'emmi', 'emori', 'ender', 'engelbart', 'engelbert', 'englebart', 'englebert', 'enoch', 'enrico', 'enriqu', 'ephraim', 'ephram', 'ephrayim', 'ephrem', 'Er', 'erasmu', 'erastu', 'erek', 'erhard', 'erhart', 'eric', 'erich', 'erick', 'erik', 'erin', 'erl', 'ernest', 'ernesto', 'erni', 'ernst', 'erni', 'errol', 'ervin', 'erwin', 'esau', 'esm', 'esteban', 'ethan', 'ethelbert', 'ethelr', 'etienn', 'euclid', 'eugen', 'eugen', 'eustac', 'Ev', 'evan', 'evelyn', 'everard', 'everett', 'ewan', 'ewart', 'Ez', 'ezechiel', 'ezekiel', 'ezra', 'fabian', 'fabio', 'fairfax', 'farley', 'fazeel', 'federico', 'felic', 'felicio', 'felip', 'felix', 'ferd', 'ferdi', 'ferdinand', 'ferdi', 'fergu', 'ferguson', 'ferinand', 'fernando', 'fidel', 'filbert', 'filip', 'filip', 'filmor', 'finley', 'finn', 'fitz', 'fitzgerald', 'flem', 'fleme', 'flem', 'fletch', 'fletcher', 'flin', 'flinn', 'flint', 'flipper', 'florian', 'floyd', 'flynn', 'fon', 'fonsi', 'fonz', 'fonzi', 'forb', 'ford', 'forest', 'forest', 'forrest', 'forrest', 'forster', 'foster', 'fowler', 'fox', 'fran', 'francesco', 'franci', 'francisco', 'francoi', 'frank', 'franki', 'franklin', 'franklyn', 'franki', 'fran', 'franz', 'fraser', 'frazier', 'fred', 'freddi', 'freddi', 'freder', 'frederich', 'frederick', 'frederico', 'frederik', 'fredric', 'fredrick', 'freeman', 'freemon', 'fremont', 'french', 'friedric', 'friedrich', 'friedrick', 'fritz', 'fulton', 'fyodor', 'gabe', 'gabriel', 'gabriel', 'gabriel', 'gabriello', 'gail', 'gale', 'galen', 'gallagh', 'gamaliel', 'garcia', 'garcon', 'garden', 'gardin', 'gardner', 'garey', 'garfield', 'garfinkel', 'garold', 'garp', 'garret', 'garrett', 'garrot', 'garrott', 'garri', 'garth', 'garv', 'garvey', 'garvin', 'garvi', 'garwin', 'garwood', 'gari', 'gaspar', 'gasper', 'gaston', 'gav', 'gaven', 'gavin', 'gavriel', 'gay', 'gayl', 'gearard', 'gene', 'geo', 'geof', 'geoff', 'geoffrey', 'geoffri', 'georg', 'georg', 'georg', 'georgia', 'georgi', 'georgi', 'gerald', 'geraldo', 'gerard', 'gere', 'gerhard', 'gerhardt', 'geri', 'germain', 'gerold', 'gerom', 'gerrard', 'gerri', 'gerrit', 'gerri', 'gershom', 'gershon', 'giacomo', 'gian', 'giancarlo', 'giavani', 'gibb', 'gideon', 'giff', 'giffard', 'giffer', 'giffi', 'gifford', 'giffi', 'gil', 'gilbert', 'gilberto', 'gilburt', 'gile', 'gill', 'gill', 'ginger', 'gino', 'giordano', 'giorgi', 'giorgio', 'giovann', 'giovanni', 'giraldo', 'giraud', 'giusepp', 'glen', 'glenn', 'glynn', 'godard', 'godart', 'goddard', 'goddart', 'godfre', 'godfrey', 'godfri', 'godwin', 'gomer', 'gonzal', 'gonzalo', 'goober', 'goos', 'gordan', 'gordi', 'gordon', 'grace', 'gradi', 'graehm', 'graem', 'graham', 'graig', 'grant', 'granvil', 'greg', 'gregg', 'greggori', 'gregor', 'gregorio', 'gregori', 'gretchen', 'griff', 'griffin', 'griffith', 'griswold', 'grove', 'grover', 'guido', 'guillaum', 'guillermo', 'gunner', 'gunter', 'gunther', 'gu', 'gustaf', 'gustav', 'gustav', 'gustavo', 'gustavu', 'guthrey', 'guthri', 'guthri', 'guy', 'hadleigh', 'hadley', 'hadrian', 'hagan', 'hagen', 'hailey', 'hakeem', 'hakim', 'hal', 'hale', 'haleigh', 'haley', 'hall', 'hallam', 'halvard', 'ham', 'hamel', 'hamid', 'hamil', 'hamilton', 'hamish', 'hamlen', 'hamlet', 'hamlin', 'hammad', 'hamnet', 'han', 'hanan', 'hanford', 'hank', 'hannib', 'han', 'hans-pet', 'hansel', 'hanson', 'harald', 'harcourt', 'hari', 'harlan', 'harland', 'harley', 'harlin', 'harman', 'harmon', 'harold', 'harri', 'harrison', 'harrold', 'harri', 'hart', 'hartley', 'hartwel', 'harv', 'harvard', 'harvey', 'harvi', 'harwel', 'hasheem', 'hashim', 'haskel', 'haskel', 'hassan', 'hast', 'hasti', 'haven', 'hayden', 'haydon', 'hay', 'hayward', 'haywood', 'hazel', 'heath', 'heathcliff', 'hebert', 'hector', 'heinrich', 'heinz', 'helmuth', 'henderson', 'hendrick', 'hendrik', 'henri', 'henri', 'henrik', 'henriqu', 'henri', 'herb', 'herbert', 'herbi', 'herbi', 'hercul', 'hercul', 'herculi', 'herman', 'hermann', 'hermon', 'hermi', 'hernando', 'herold', 'herrick', 'herrmann', 'hersch', 'herschel', 'hersh', 'hershel', 'herv', 'hervey', 'hew', 'hew', 'hewet', 'hewett', 'hewi', 'hewitt', 'heywood', 'hezekiah', 'higgin', 'hilari', 'hilbert', 'hill', 'hillard', 'hillari', 'hillel', 'hilleri', 'hilliard', 'hilton', 'hiral', 'hiram', 'hiro', 'hirsch', 'hobart', 'hodg', 'hogan', 'holli', 'holli', 'homer', 'horac', 'horacio', 'horatio', 'horatiu', 'horst', 'howard', 'howi', 'hoyt', 'hubert', 'hudson', 'huey', 'hugh', 'hugo', 'humbert', 'humphrey', 'hunt', 'hunter', 'huntington', 'huntle', 'huntley', 'hurley', 'husain', 'husein', 'hussein', 'Hy', 'hyatt', 'hyman', 'hymi', 'iago', 'iain', 'ian', 'ibrahim', 'ichabod', 'iggi', 'iggi', 'ignac', 'ignacio', 'ignaciu', 'ignatiu', 'ignaz', 'ignazio', 'igor', 'ike', 'ikey', 'immanuel', 'ingamar', 'ingelbert', 'ingemar', 'inglebert', 'ingmar', 'ingram', 'inigo', 'ira', 'irvin', 'irvin', 'irv', 'irwin', 'isa', 'isaac', 'isaak', 'isador', 'isador', 'isaiah', 'ishmael', 'isidor', 'ismail', 'israel', 'istvan', 'ivan', 'ivor', 'izaak', 'izak', 'izzi', 'jabez', 'jack', 'jacki', 'jackson', 'jacob', 'jacqu', 'jae', 'jaim', 'jake', 'jakob', 'jame', 'jameson', 'jamey', 'jami', 'jan', 'jano', 'janu', 'jare', 'jarrett', 'jarvi', 'jason', 'jasper', 'javier', 'jay', 'jean', 'jean-christoph', 'jean-francoi', 'jean-lou', 'jean-luc', 'jean-marc', 'jean-paul', 'jean-pierr', 'jeb', 'jed', 'jedediah', 'jef', 'jeff', 'jefferey', 'jefferson', 'jefferi', 'jeffi', 'jeffrey', 'jeffri', 'jefri', 'jehu', 'jen', 'jen', 'jephthah', 'jerald', 'jerami', 'jere', 'jerem', 'jeremiah', 'jeremia', 'jeremi', 'jeremi', 'jermain', 'jermain', 'jermayn', 'jerold', 'jerom', 'jeromi', 'jerri', 'jerri', 'jerrold', 'jerrom', 'jerri', 'jervi', 'jerzi', 'jess', 'jess', 'jesse', 'jessey', 'jessi', 'jesu', 'jeth', 'jethro', 'jim', 'jimbo', 'jimmi', 'jimmi', 'Jo', 'joab', 'joachim', 'joao', 'joaquin', 'job', 'jock', 'jodi', 'jodi', 'jodi', 'joe', 'joel', 'joey', 'johan', 'johann', 'johann', 'john', 'john-david', 'john-patrick', 'johnathan', 'johnathon', 'johnni', 'johnni', 'johni', 'jon', 'jonah', 'jona', 'jonathan', 'jonathon', 'jonni', 'jordan', 'jordon', 'jordi', 'jorg', 'jori', 'jose', 'josef', 'joseph', 'josephu', 'josh', 'joshua', 'joshuah', 'josiah', 'jotham', 'juan', 'juanita', 'jud', 'judah', 'juda', 'judd', 'jude', 'judith', 'judson', 'judi', 'juergen', 'jule', 'jule', 'julian', 'juli', 'julio', 'juliu', 'justin', 'justi', 'kaiser', 'kaleb', 'kalil', 'kall', 'kalman', 'kalvin', 'kam', 'kane', 'kareem', 'karel', 'karim', 'karl', 'karsten', 'kaspar', 'keef', 'keenan', 'keen', 'keil', 'keith', 'kellen', 'kelley', 'kelli', 'kelsey', 'kelvin', 'kelwin', 'ken', 'kendal', 'kendal', 'kendrick', 'kenn', 'kennedi', 'kenneth', 'kenni', 'kent', 'kenton', 'kenyon', 'kermi', 'kermit', 'kerri', 'kevan', 'kevin', 'kim', 'kimbal', 'kimmo', 'kin', 'kincaid', 'king', 'kingsley', 'kingsli', 'kingston', 'kip', 'kirbi', 'kirk', 'kit', 'klau', 'klee', 'knox', 'konrad', 'konstantin', 'kori', 'kosta', 'kraig', 'kri', 'krishna', 'kristian', 'kristoph', 'kristo', 'kurt', 'kurti', 'kyle', 'laird', 'lamar', 'lambert', 'lamont', 'lanc', 'lancelot', 'lane', 'langston', 'lanni', 'larri', 'lar', 'lauranc', 'lauren', 'laurenc', 'lauren', 'laurent', 'lauri', 'lawer', 'lawrenc', 'lawson', 'lawton', 'lay', 'layton', 'lazar', 'lazar', 'lazaro', 'lazaru', 'lazlo', 'lee', 'lefti', 'leif', 'leigh', 'leighton', 'leland', 'lem', 'lemar', 'lemmi', 'lemmi', 'lemuel', 'len', 'lenard', 'lenni', 'lenni', 'leo', 'leon', 'leonard', 'leonardo', 'leonerd', 'leonhard', 'leonid', 'leonida', 'leopold', 'leroy', 'le', 'lesley', 'lesli', 'lester', 'lev', 'levi', 'levin', 'levon', 'levi', 'lew', 'lewi', 'lex', 'liam', 'lin', 'lincoln', 'lind', 'lindsay', 'lindsey', 'lindi', 'linoel', 'linu', 'lion', 'lionel', 'lionello', 'llewellyn', 'lloyd', 'lock', 'lockwood', 'logan', 'lon', 'lonni', 'lonni', 'loren', 'lorenzo', 'lorn', 'lorri', 'lothar', 'lou', 'louie', 'loui', 'lovel', 'lowel', 'luca', 'luce', 'lucian', 'luciano', 'lucien', 'lucio', 'luciu', 'ludvig', 'ludwig', 'luigi', 'lui', 'luka', 'luke', 'luther', 'lyle', 'lyn', 'lyndon', 'lynn', 'mac', 'mace', 'mack', 'mackenzi', 'maddi', 'maddi', 'madison', 'magnum', 'magnu', 'mahesh', 'mahmoud', 'mahmud', 'maison', 'major', 'malcolm', 'manfr', 'manish', 'manni', 'manuel', 'marc', 'marcel', 'marcello', 'marcellu', 'marcelo', 'marchal', 'marcio', 'marco', 'marco', 'marcu', 'marietta', 'marilu', 'mario', 'marion', 'mariu', 'mark', 'marko', 'marko', 'marku', 'marlin', 'marlo', 'marlon', 'marlow', 'marlow', 'marmaduk', 'marsh', 'marshal', 'marshal', 'mart', 'martainn', 'marten', 'marti', 'martin', 'martino', 'marti', 'martyn', 'marv', 'marv', 'marven', 'marvin', 'marwin', 'mason', 'mateo', 'mathew', 'mathia', 'matia', 'matt', 'matteo', 'matthaeu', 'mattheu', 'matthew', 'matthia', 'matthieu', 'matthiew', 'matthu', 'mattia', 'matti', 'matti', 'mauric', 'mauricio', 'mauri', 'mauris', 'maurit', 'mauritz', 'mauri', 'max', 'maxfield', 'maxi', 'maxim', 'maximilian', 'maximilien', 'maxwel', 'mayer', 'maynard', 'maynord', 'mayor', 'mead', 'mead', 'meier', 'meir', 'mel', 'melvin', 'melvyn', 'menard', 'mendel', 'mendi', 'meredeth', 'meredith', 'merel', 'meril', 'merl', 'merlin', 'merrel', 'merrick', 'merril', 'merril', 'merri', 'merv', 'mervin', 'merwin', 'meryl', 'meyer', 'mic', 'micah', 'michael', 'michail', 'michal', 'michal', 'micheal', 'micheil', 'michel', 'michel', 'mick', 'mickey', 'micki', 'micki', 'miguel', 'mika', 'mikael', 'mike', 'mikel', 'mikey', 'mikhail', 'mile', 'millic', 'milo', 'milt', 'milton', 'mischa', 'mitch', 'mitchael', 'mitchel', 'mitchel', 'moe', 'mohamad', 'moham', 'mohammad', 'moham', 'mohan', 'mois', 'mois', 'moish', 'monro', 'montagu', 'mont', 'montgomeri', 'monti', 'moor', 'mordecai', 'morgan', 'morle', 'morley', 'morli', 'morri', 'morri', 'morri', 'mors', 'mort', 'morten', 'morti', 'mortim', 'morton', 'morti', 'mose', 'mose', 'mosh', 'moss', 'muffin', 'mugsi', 'muhammad', 'munmro', 'munro', 'murdoch', 'murdock', 'murphi', 'murray', 'mustafa', 'myke', 'myle', 'mylo', 'myron', 'nahum', 'napoleon', 'nat', 'natal', 'nate', 'nathan', 'nathanael', 'nathani', 'nathaniel', 'nathanil', 'neal', 'neal', 'neall', 'nealon', 'nealson', 'neali', 'ned', 'neddi', 'neddi', 'neel', 'neil', 'nel', 'nelsen', 'nelson', 'nero', 'neron', 'nester', 'nestor', 'nev', 'nevil', 'nevil', 'nevil', 'nevin', 'nevin', 'newton', 'niall', 'niccolo', 'nichola', 'nichol', 'nichol', 'nick', 'nickey', 'nicki', 'nickola', 'nicki', 'nico', 'nicola', 'niel', 'nigel', 'niki', 'nikita', 'nikki', 'nikolai', 'niko', 'nile', 'nil', 'nilson', 'niven', 'noach', 'noah', 'noam', 'nobl', 'noe', 'noel', 'nolan', 'noland', 'norbert', 'norm', 'norman', 'normand', 'normi', 'norri', 'northrop', 'northrup', 'norton', 'norwood', 'nunzio', 'obadiah', 'obadia', 'oberon', 'obi', 'octaviu', 'odel', 'odi', 'odin', 'odysseu', 'olaf', 'olag', 'ole', 'oleg', 'olin', 'oliv', 'olivi', 'oll', 'olli', 'omar', 'oral', 'oran', 'orazio', 'orbadiah', 'oren', 'orin', 'orion', 'orlando', 'orren', 'orrin', 'orson', 'orton', 'orvil', 'osbert', 'osborn', 'osborn', 'osbourn', 'osbourn', 'oscar', 'osgood', 'osmond', 'osmund', 'ossi', 'oswald', 'oswel', 'ote', 'othello', 'otho', 'oti', 'otto', 'owen', 'ozzi', 'ozzi', 'pablo', 'pace', 'paco', 'paddi', 'paddi', 'padraig', 'page', 'paig', 'pail', 'palmer', 'paolo', 'park', 'park', 'parker', 'parnel', 'parrnel', 'parri', 'parsif', 'partha', 'pascal', 'pascal', 'pasqual', 'pat', 'pate', 'patel', 'paten', 'patin', 'paton', 'patric', 'patric', 'patricio', 'patrick', 'patrik', 'patsi', 'patti', 'patti', 'paul', 'paulo', 'pavel', 'pearc', 'pedro', 'peirc', 'pembrok', 'pen', 'penn', 'penni', 'penni', 'penrod', 'pepe', 'pepillo', 'pepito', 'percev', 'perciv', 'perci', 'perri', 'pete', 'peter', 'petey', 'petr', 'peyter', 'peyton', 'phil', 'philbert', 'philip', 'phillip', 'phillip', 'phillipp', 'phinea', 'phip', 'pierc', 'pierr', 'pierson', 'piet', 'pieter', 'pietro', 'piggi', 'pinca', 'pincha', 'pincu', 'piotr', 'pip', 'plato', 'pooh', 'porter', 'poul', 'powel', 'praneetf', 'prasad', 'prasun', 'prent', 'prentic', 'prentiss', 'prescott', 'preston', 'price', 'princ', 'pryce', 'puff', 'purcel', 'putnam', 'pyotr', 'quent', 'quentin', 'quiggli', 'quigli', 'quigman', 'quill', 'quillan', 'quincey', 'quinci', 'quinlan', 'quinn', 'quint', 'quintin', 'quinton', 'quintu', 'rab', 'rabbi', 'rabi', 'rad', 'radcliff', 'rafael', 'rafe', 'ragnar', 'rahul', 'raimund', 'rainer', 'raj', 'rajeev', 'raleigh', 'ralf', 'ralph', 'ram', 'ramesh', 'ramon', 'ramsay', 'ramsey', 'rand', 'randal', 'randal', 'randel', 'randi', 'randi', 'randolf', 'randolph', 'randi', 'ransel', 'ransom', 'raoul', 'raphael', 'raul', 'ravi', 'ravil', 'rawley', 'ray', 'raymond', 'raymund', 'raymundo', 'raynard', 'rayner', 'raynor', 'reagan', 'red', 'redford', 'redmond', 'reec', 'reed', 'ree', 'rees', 'reg', 'regan', 'regen', 'reggi', 'reggi', 'reggi', 'reginald', 'reginauld', 'reid', 'reilli', 'reinhard', 'reinhold', 'rem', 'remington', 'remu', 'renado', 'renaldo', 'renard', 'renato', 'renaud', 'renault', 'rene', 'reub', 'reuben', 'reuven', 'rex', 'rey', 'reynard', 'reynold', 'reynold', 'reza', 'rhett', 'ric', 'ricard', 'ricardo', 'riccardo', 'rice', 'rich', 'richard', 'richardo', 'richi', 'richmond', 'richi', 'rick', 'rickard', 'rickey', 'ricki', 'ricki', 'ricki', 'rik', 'rikki', 'riley', 'rinaldo', 'ripley', 'ritch', 'ritchi', 'roark', 'rob', 'robb', 'robbert', 'robbi', 'robert', 'roberto', 'robin', 'robinson', 'rochest', 'rock', 'rockwel', 'rocki', 'rod', 'rodd', 'roddi', 'roddi', 'roder', 'roderich', 'roderick', 'roderigo', 'rodg', 'rodger', 'rodney', 'rodolfo', 'rodolph', 'rodolph', 'rodrick', 'rodrigo', 'rodriqu', 'rog', 'roger', 'roger', 'roic', 'roland', 'rolando', 'rolf', 'rolf', 'rolland', 'rollin', 'rollin', 'rollo', 'rolph', 'romain', 'roman', 'romeo', 'ron', 'ronald', 'ronen', 'roni', 'ronni', 'ronni', 'roosevelt', 'rori', 'rosco', 'ross', 'roth', 'rourk', 'rowland', 'roy', 'royal', 'royc', 'rube', 'ruben', 'rubin', 'rubi', 'rudd', 'ruddi', 'ruddi', 'rudi', 'rudig', 'rudolf', 'rudolfo', 'rudolph', 'rudi', 'rudyard', 'rufe', 'rufu', 'rupert', 'ruperto', 'russ', 'russel', 'russel', 'rusti', 'rustin', 'rusti', 'rutger', 'rutherford', 'rutledg', 'rutter', 'ryan', 'sal', 'salem', 'salim', 'salman', 'salmon', 'salomo', 'salomon', 'salomon', 'salvador', 'salvator', 'salvidor', 'sam', 'sammi', 'sammi', 'sampson', 'samson', 'samuel', 'samuel', 'sancho', 'sander', 'sander', 'sanderson', 'sandor', 'sandro', 'sandi', 'sanford', 'sanson', 'sanson', 'sarg', 'sargent', 'sascha', 'sasha', 'saul', 'sauncho', 'saunder', 'saunder', 'saunderson', 'saundra', 'saw', 'sawyer', 'sawyer', 'sax', 'sax', 'saxon', 'say', 'sayer', 'sayer', 'sayr', 'sayr', 'scarfac', 'schroeder', 'schuyler', 'scot', 'scott', 'scotti', 'scotti', 'scotti', 'seamu', 'sean', 'sebastian', 'sebastiano', 'sebastien', 'see', 'selbi', 'selig', 'serg', 'sergeant', 'sergei', 'sergent', 'sergio', 'seth', 'seymour', 'shadow', 'shain', 'shalom', 'shamu', 'shanan', 'shane', 'shannan', 'shannon', 'shaughn', 'shaun', 'shaw', 'shawn', 'shay', 'shayn', 'shea', 'sheff', 'sheffi', 'sheffield', 'sheffi', 'shelbi', 'shelden', 'sheldon', 'shell', 'shelley', 'shelton', 'shem', 'shep', 'shepard', 'shepherd', 'sheppard', 'shepperd', 'sheridan', 'sherlock', 'sherlock', 'sherman', 'sherwin', 'sherwood', 'sherwynd', 'shimon', 'shlomo', 'sholom', 'shorti', 'shumeet', 'shurlock', 'shurlock', 'shurwood', 'Si', 'sibyl', 'sid', 'siddhartha', 'sidne', 'sidney', 'siegfri', 'siffr', 'sig', 'sigfrid', 'sigfri', 'sigmund', 'sila', 'silvain', 'silvan', 'silvano', 'silvanu', 'silvest', 'silvio', 'sim', 'simeon', 'simmond', 'simon', 'simon', 'sinclair', 'sinclar', 'sivert', 'siward', 'skell', 'skelli', 'skip', 'skipp', 'skipper', 'skippi', 'skippi', 'skipton', 'ski', 'skye', 'skylar', 'skyler', 'slade', 'slim', 'sloan', 'sloan', 'sli', 'smith', 'smitti', 'socrat', 'sol', 'solli', 'solli', 'solomon', 'somerset', 'son', 'sonni', 'sonni', 'sparki', 'spenc', 'spencer', 'spens', 'spenser', 'spike', 'spiro', 'spiro', 'spud', 'sriniva', 'staci', 'staffard', 'stafford', 'staford', 'stan', 'standford', 'stanfield', 'stanford', 'stanislaw', 'stanleigh', 'stanley', 'stanli', 'stanton', 'stanwood', 'stavro', 'stearn', 'stearn', 'stefan', 'stefano', 'steffen', 'stephan', 'stephanu', 'stephen', 'sterl', 'stern', 'stern', 'steve', 'steven', 'stevi', 'stevi', 'stew', 'steward', 'stewart', 'stig', 'stillman', 'stillmann', 'sting', 'stinki', 'stirl', 'stu', 'stuart', 'sturgi', 'sullivan', 'sulli', 'sumner', 'sunni', 'sutherland', 'sutton', 'sven', 'swen', 'syd', 'sydney', 'sylvan', 'sylvest', 'tab', 'tabb', 'tabbi', 'tabbi', 'taber', 'tabor', 'tad', 'tadd', 'taddeo', 'taddeu', 'tadea', 'tailor', 'tait', 'tait', 'talbert', 'talbot', 'talli', 'talli', 'tam', 'tama', 'tammi', 'tammi', 'tan', 'tann', 'tanner', 'tanney', 'tanni', 'tanni', 'tarranc', 'tarrant', 'tarzan', 'tate', 'taylor', 'teador', 'ted', 'tedd', 'teddi', 'teddi', 'tedi', 'tedman', 'tedmund', 'tedrick', 'temp', 'templ', 'templeton', 'teodoor', 'teodor', 'teodorico', 'teodoro', 'terenc', 'terencio', 'terranc', 'terrel', 'terrel', 'terrenc', 'terri', 'terril', 'terri', 'thacher', 'thad', 'thaddeu', 'thaddiu', 'thaddu', 'thadeu', 'thain', 'thain', 'thane', 'tharen', 'thatch', 'thatcher', 'thaxter', 'thayn', 'thebault', 'thedric', 'thedrick', 'theo', 'theobald', 'theodor', 'theodor', 'theodor', 'theophyllu', 'thibaud', 'thibaut', 'thom', 'thoma', 'thor', 'thorn', 'thorndik', 'thorni', 'thornton', 'thorni', 'thorp', 'thorstein', 'thorsten', 'thorvald', 'thurstan', 'thurston', 'tibold', 'tiebold', 'tiebout', 'tiler', 'tim', 'timmi', 'timmi', 'timothe', 'timotheu', 'timothi', 'tirrel', 'tito', 'tito', 'titu', 'tobe', 'tobiah', 'tobia', 'tobi', 'tobin', 'tobit', 'tobi', 'tod', 'todd', 'toddi', 'toddi', 'tom', 'toma', 'tome', 'tomkin', 'tomlin', 'tommi', 'tommi', 'tonni', 'toni', 'tore', 'torey', 'torin', 'torr', 'torranc', 'torr', 'torrenc', 'torrey', 'torrin', 'torri', 'town', 'towney', 'towni', 'townsend', 'towni', 'trace', 'tracey', 'traci', 'traci', 'traver', 'traver', 'travi', 'tray', 'tre', 'tremain', 'tremain', 'tremayn', 'trent', 'trenton', 'trev', 'trevar', 'trever', 'trevor', 'trey', 'trip', 'tristan', 'troy', 'truman', 'tuck', 'tucker', 'tucki', 'tucki', 'tudor', 'tull', 'tulley', 'tulli', 'turner', 'Ty', 'tybalt', 'tye', 'tyler', 'tymon', 'tymothi', 'tynan', 'tyron', 'tyru', 'tyson', 'udal', 'udal', 'udel', 'ugo', 'ulberto', 'uli', 'ulick', 'ulis', 'ulric', 'ulrich', 'ulrick', 'ulyss', 'umberto', 'upton', 'urbain', 'urban', 'urbano', 'urbanu', 'uri', 'uriah', 'uriel', 'urson', 'vachel', 'vaclav', 'vail', 'val', 'valdemar', 'vale', 'valentin', 'valentin', 'van', 'vanc', 'vasili', 'vasili', 'vasili', 'vassili', 'vassili', 'vaughan', 'vaughn', 'venkat', 'verg', 'vergil', 'vern', 'vern', 'vernen', 'verney', 'vernon', 'vernor', 'vibhu', 'vic', 'vick', 'victor', 'vijay', 'vilhelm', 'vin', 'vinc', 'vincent', 'vincent', 'vinni', 'vinni', 'vinod', 'virg', 'virgi', 'virgil', 'virgilio', 'vite', 'vito', 'vlad', 'vladamir', 'vladimir', 'voltair', 'von', 'wade', 'wadsworth', 'wain', 'wain', 'wainwright', 'wait', 'wait', 'waiter', 'wake', 'wakefield', 'wald', 'waldemar', 'walden', 'waldo', 'waldon', 'wale', 'walker', 'wallac', 'wallach', 'walla', 'walli', 'walli', 'walli', 'walsh', 'walt', 'walter', 'walther', 'walton', 'wang', 'ward', 'ward', 'warden', 'ware', 'ware', 'warner', 'warren', 'wash', 'washington', 'wat', 'waverley', 'waverli', 'way', 'waylan', 'wayland', 'waylen', 'waylin', 'waylon', 'wayn', 'web', 'webb', 'weber', 'webster', 'weidar', 'weider', 'welbi', 'welbi', 'welch', 'well', 'welsh', 'wendal', 'wendel', 'wendel', 'werner', 'we', 'wesley', 'wesli', 'west', 'westbrook', 'westbrook', 'westleigh', 'westley', 'weston', 'weylin', 'wheeler', 'whit', 'whitak', 'whitbi', 'whitman', 'whitney', 'whittak', 'wiatt', 'wilber', 'wilbert', 'wilbur', 'wilburn', 'wilburt', 'wilden', 'wildon', 'wilek', 'wiley', 'wilfr', 'wilfrid', 'wilhelm', 'will', 'willard', 'willdon', 'willem', 'willey', 'willi', 'william', 'willi', 'willi', 'willmott', 'willi', 'wilmar', 'wilmer', 'wilson', 'wilt', 'wilton', 'win', 'windham', 'winfield', 'winford', 'winfr', 'winifield', 'winn', 'winni', 'winni', 'winslow', 'winston', 'winthrop', 'winton', 'wit', 'witold', 'witti', 'witti', 'wojciech', 'wolf', 'wolfgang', 'wolfi', 'wolfram', 'wolfi', 'woochang', 'wood', 'woodi', 'woodman', 'woodrow', 'woodi', 'worden', 'worth', 'worthington', 'worthi', 'wright', 'wyatan', 'wyatt', 'wye', 'wyli', 'wyn', 'wyndham', 'wynn', 'wynton', 'xavier', 'xeno', 'xerx', 'xever', 'ximen', 'ximenez', 'xymen', 'yaakov', 'yacov', 'yale', 'yanaton', 'yanc', 'yancey', 'yanci', 'yank', 'yanke', 'yard', 'yardley', 'yehudi', 'yigal', 'yule', 'yuri', 'yve', 'zach', 'zacharia', 'zachariah', 'zacharia', 'zachari', 'zachari', 'zacheri', 'zacheri', 'zack', 'zackariah', 'zak', 'zalman', 'zane', 'zare', 'zari', 'zeb', 'zebadiah', 'zebede', 'zebulen', 'zebulon', 'zechariah', 'zed', 'zedekiah', 'zeke', 'zelig', 'zerk', 'zeu', 'zippi', 'zolli', 'zolli', 'zorro'] \n",
            "\n",
            "Lab_1_02 exercise\n",
            "1) Draw Scatter Plot between SepalLengthCm and SepalWidthCm for Iris.csv file with proper labelling. \n",
            "\n"
          ]
        },
        {
          "output_type": "display_data",
          "data": {
            "image/png": "[encoded data removed]",
            "text/plain": [
              "<Figure size 432x288 with 1 Axes>"
            ]
          },
          "metadata": {
            "needs_background": "light"
          }
        },
        {
          "output_type": "stream",
          "name": "stdout",
          "text": [
            "2) Draw Histogram of SepalLengthCm with proper labelling. \n",
            "\n"
          ]
        },
        {
          "output_type": "display_data",
          "data": {
            "image/png": "[encoded data removed]",
            "text/plain": [
              "<Figure size 432x288 with 1 Axes>"
            ]
          },
          "metadata": {
            "needs_background": "light"
          }
        },
        {
          "output_type": "stream",
          "name": "stdout",
          "text": [
            "3) Plot bar chart of Species. \n"
          ]
        },
        {
          "output_type": "display_data",
          "data": {
            "image/png": "[encoded data removed]",
            "text/plain": [
              "<Figure size 432x288 with 1 Axes>"
            ]
          },
          "metadata": {
            "needs_background": "light"
          }
        },
        {
          "output_type": "stream",
          "name": "stdout",
          "text": [
            "4) Count total null values for each column in this dataset.\n",
            "The null value for column  SepalLengthCm  is  0\n",
            "The null value for column  SepalWidthCm  is  0\n",
            "The null value for column  PetalWidthCm  is  0\n",
            "The null value for column  Species  is  0\n",
            "\n",
            "\n",
            "5) 1) Print first 5 rows of SepalLengthCm.\n",
            "Id\n",
            "1    5.1\n",
            "2    4.9\n",
            "3    4.7\n",
            "4    4.6\n",
            "5    5.0\n",
            "Name: SepalLengthCm, dtype: float64\n",
            "5) 2) Print from 5th row and onwards and entire column of Iris.csv dataset.\n",
            "     SepalWidthCm  PetalLengthCm  PetalWidthCm         Species\n",
            "Id                                                            \n",
            "6             3.9            1.7           0.4     Iris-setosa\n",
            "7             3.4            1.4           0.3     Iris-setosa\n",
            "8             3.4            1.5           0.2     Iris-setosa\n",
            "9             2.9            1.4           0.2     Iris-setosa\n",
            "10            3.1            1.5           0.1     Iris-setosa\n",
            "..            ...            ...           ...             ...\n",
            "146           3.0            5.2           2.3  Iris-virginica\n",
            "147           2.5            5.0           1.9  Iris-virginica\n",
            "148           3.0            5.2           2.0  Iris-virginica\n",
            "149           3.4            5.4           2.3  Iris-virginica\n",
            "150           3.0            5.1           1.8  Iris-virginica\n",
            "\n",
            "[145 rows x 4 columns]\n"
          ]
        }
      ]
    }
  ]
}